{
  "nbformat": 4,
  "nbformat_minor": 0,
  "metadata": {
    "colab": {
      "name": "Ej_Python_1867031.ipynb",
      "provenance": [],
      "authorship_tag": "ABX9TyNquGLbexsVwgAA+//ldzVd",
      "include_colab_link": true
    },
    "kernelspec": {
      "name": "python3",
      "display_name": "Python 3"
    },
    "language_info": {
      "name": "python"
    }
  },
  "cells": [
    {
      "cell_type": "markdown",
      "metadata": {
        "id": "view-in-github",
        "colab_type": "text"
      },
      "source": [
        "<a href=\"https://colab.research.google.com/github/ArturoIsaacSanchezTovar/MineriadeDatos/blob/main/Ej_Python_1867031.ipynb\" target=\"_parent\"><img src=\"https://colab.research.google.com/assets/colab-badge.svg\" alt=\"Open In Colab\"/></a>"
      ]
    },
    {
      "cell_type": "markdown",
      "metadata": {
        "id": "6Ug1wRyFmhHH"
      },
      "source": [
        "\n",
        "*   **EJERCICIO 1**\n"
      ]
    },
    {
      "cell_type": "code",
      "metadata": {
        "id": "xAZwrrzo1RSQ",
        "colab": {
          "base_uri": "https://localhost:8080/"
        },
        "outputId": "427a28dd-020c-41c9-a594-ddb709470ca1"
      },
      "source": [
        "# Ejercicio 1 - Realiza una variable con tu matricula y realiza una secuencia de imprimir con tu nombre y tu matricula concatenados.\n",
        "matricula=1867031\n",
        "nombre=\"Arturo Sánchez\"\n",
        "print(\"El alumno es\", nombre, \"de matrícula\", matricula)"
      ],
      "execution_count": 109,
      "outputs": [
        {
          "output_type": "stream",
          "text": [
            "El alumno es Arturo Sánchez de matrícula 1867031\n"
          ],
          "name": "stdout"
        }
      ]
    },
    {
      "cell_type": "markdown",
      "metadata": {
        "id": "9N-EQLUvm8as"
      },
      "source": [
        "\n",
        "\n",
        "*   **EJERCICIO 2**\n",
        "\n"
      ]
    },
    {
      "cell_type": "code",
      "metadata": {
        "id": "256IyiTq0Mx-",
        "colab": {
          "base_uri": "https://localhost:8080/"
        },
        "outputId": "31f018ff-5bb2-4d88-e41e-e02653f4fc2b"
      },
      "source": [
        "# Ejercicio 2 - Pidiendo el input del usuario pide dos números y crea una pequeña calculadora con los operadores básicos de suma, \n",
        "# resta, multiplicación, división, y exponente. Utilizando el loop de while.\n",
        "b=1\n",
        "while b!=2:\n",
        "  print(\"\\n---CALCULADORA CON OPERADORES BÁSICOS---\\n\")\n",
        "  num1=int(input(\"Introduce el número A: \"))\n",
        "  num2=int(input(\"Introduce el número B: \"))\n",
        "  print(\"\\n-------MENÚ-------\")\n",
        "  print(\"1.-Suma (A+B)\\n2.-Resta (A-B)\\n3.-Multiplicación (A*B)\\n4.-División (A/B)\\n5.-Exponente (A^B)\\n\")\n",
        "  opc=int(input(\"¿Qué operación quiere utilizar? [1-5]:\"))\n",
        "  if opc==1:\n",
        "    res=num1+num2\n",
        "  else:\n",
        "    if opc==2:\n",
        "      res=num1-num2\n",
        "    else:\n",
        "      if opc==3:\n",
        "        res=num1*num2\n",
        "      else:\n",
        "        if opc==4:\n",
        "          res=num1/num2\n",
        "        else:\n",
        "          res=num1**num2\n",
        "  print(\"\\nEl resultado de la operación es:\",res)\n",
        "  b=int(input(\"\\n¿Deseas realizar otro cálculo? [1.-Sí, 2.-No]:\"))"
      ],
      "execution_count": null,
      "outputs": [
        {
          "output_type": "stream",
          "text": [
            "\n",
            "---CALCULADORA CON OPERADORES BÁSICOS---\n",
            "\n",
            "Introduce el número A: 3\n",
            "Introduce el número B: 2\n",
            "\n",
            "-------MENÚ-------\n",
            "1.-Suma (A+B)\n",
            "2.-Resta (A-B)\n",
            "3.-Multiplicación (A*B)\n",
            "4.-División (A/B)\n",
            "5.-Exponente (A^B)\n",
            "\n",
            "¿Qué operación quiere utilizar? [1-5]:3\n",
            "\n",
            "El resultado de la operación es: 6\n",
            "\n",
            "¿Deseas realizar otro cálculo? [1.-Sí, 2.-No]:2\n"
          ],
          "name": "stdout"
        }
      ]
    },
    {
      "cell_type": "markdown",
      "metadata": {
        "id": "-Oqu76ctnDql"
      },
      "source": [
        "\n",
        "\n",
        "*   **EJERCICIO 3**\n",
        "\n"
      ]
    },
    {
      "cell_type": "code",
      "metadata": {
        "colab": {
          "base_uri": "https://localhost:8080/"
        },
        "id": "aduRWorc0RBq",
        "outputId": "db3b854c-deb9-4432-aaee-39321f64778b"
      },
      "source": [
        "# Ejercicio 3 - Con loop while o for, realiza una lista de 10 numeros multiplos de 3, y después realiza una función de loop que \n",
        "# sume todos los números dentro del arreglo.\n",
        "# lista = [3,6,9,12,15,18,21,24,27,30]\n",
        "b=0\n",
        "l=[0]*10\n",
        "while b<10:\n",
        "  l[b]=3*(b+1)\n",
        "  b=b+1\n",
        "\n",
        "print(\"Lista:\")\n",
        "sum=0\n",
        "for i in range(0,len(l)):\n",
        "  sum=sum+l[i]\n",
        "print(l)\n",
        "\n",
        "print(\"\\nLa suma de los números dentro del arreglo es:\",sum)"
      ],
      "execution_count": 110,
      "outputs": [
        {
          "output_type": "stream",
          "text": [
            "Lista:\n",
            "[3, 6, 9, 12, 15, 18, 21, 24, 27, 30]\n",
            "\n",
            "La suma de los números dentro del arreglo es: 165\n"
          ],
          "name": "stdout"
        }
      ]
    },
    {
      "cell_type": "markdown",
      "metadata": {
        "id": "VsMnhG_YnJs1"
      },
      "source": [
        "\n",
        "\n",
        "*   **EJERCICIO 4**\n",
        "\n"
      ]
    },
    {
      "cell_type": "code",
      "metadata": {
        "id": "OiAW8gwC0Unh",
        "colab": {
          "base_uri": "https://localhost:8080/"
        },
        "outputId": "6a56ea52-e613-4be7-cb1a-367e14053c35"
      },
      "source": [
        "# Ejercicio 4 - Con una función de if else, revisar si un número es par o es impar.\n",
        "# Con una función de if else, revisar si un número es primo o no.\n",
        "\n",
        "num1=int(input(\"Introduce un número: \"))\n",
        "if num1%2==0:\n",
        "  print(\"El número es par\")\n",
        "else:\n",
        "  print(\"El número es impar\")\n",
        "\n",
        "a=0\n",
        "for i in range(2,num1):\n",
        "  if num1//i == num1/i and i!=1 and i!=num1:\n",
        "      a=1\n",
        "\n",
        "if a == 1:\n",
        "      print(\"El número no es primo\")\n",
        "else:\n",
        "      print(\"El número es primo\")"
      ],
      "execution_count": 111,
      "outputs": [
        {
          "output_type": "stream",
          "text": [
            "Introduce un número: 13\n",
            "El número es impar\n",
            "El número es primo\n"
          ],
          "name": "stdout"
        }
      ]
    },
    {
      "cell_type": "markdown",
      "metadata": {
        "id": "vTDP-4ltnPnw"
      },
      "source": [
        "\n",
        "\n",
        "*   **EJERCICIO 5**\n",
        "\n"
      ]
    },
    {
      "cell_type": "code",
      "metadata": {
        "id": "5_YUx4D30YcZ",
        "colab": {
          "base_uri": "https://localhost:8080/"
        },
        "outputId": "80b2ae4c-5fa1-4aaf-d73f-28a70c77a610"
      },
      "source": [
        "# Ejercicio 5 - Utilizando diferentes clases en python, crea una calculadora con los operadores básicos de suma, resta, multiplicación, \n",
        "# división, y exponente\n",
        "b=1\n",
        "while b!=2:\n",
        "  print(\"\\n---CALCULADORA CON OPERADORES BÁSICOS---\\n\")\n",
        "  num1=float(input(\"Introduce el número A: \"))\n",
        "  num2=float(input(\"Introduce el número B: \"))\n",
        "  print(\"\\n-------MENÚ-------\")\n",
        "  print(\"{S}.-Suma (A+B)\\n{R}.-Resta (A-B)\\n{M}.-Multiplicación (A*B)\\n{D}.-División (A/B)\\n{E}.-Exponente (A^B)\\n\")\n",
        "  opc=input(\"¿Qué operación quiere utilizar? [S, R, M, D, E]:\")\n",
        "  float(res)\n",
        "  if opc==\"S\":\n",
        "    res=num1+num2\n",
        "  else:\n",
        "    if opc==\"R\":\n",
        "      res=num1-num2\n",
        "    else:\n",
        "      if opc==\"M\":\n",
        "        res=num1*num2\n",
        "      else:\n",
        "        if opc==\"D\":\n",
        "          res=num1/num2\n",
        "        else:\n",
        "          res=num1**num2\n",
        "  print(\"\\nEl resultado de la operación es:\",res)\n",
        "  b=int(input(\"\\n¿Deseas realizar otro cálculo? [1.-Sí, 2.-No]:\"))\n",
        "\n",
        "\n"
      ],
      "execution_count": null,
      "outputs": [
        {
          "output_type": "stream",
          "text": [
            "\n",
            "---CALCULADORA CON OPERADORES BÁSICOS---\n",
            "\n",
            "Introduce el número A: 3.4\n",
            "Introduce el número B: 6\n",
            "\n",
            "-------MENÚ-------\n",
            "{S}.-Suma (A+B)\n",
            "{R}.-Resta (A-B)\n",
            "{M}.-Multiplicación (A*B)\n",
            "{D}.-División (A/B)\n",
            "{E}.-Exponente (A^B)\n",
            "\n",
            "¿Qué operación quiere utilizar? [S, R, M, D, E]:R\n",
            "\n",
            "El resultado de la operación es: -2.6\n",
            "\n",
            "¿Deseas realizar otro cálculo? [1.-Sí, 2.-No]:2\n"
          ],
          "name": "stdout"
        }
      ]
    },
    {
      "cell_type": "markdown",
      "metadata": {
        "id": "b3YamaFmnWrF"
      },
      "source": [
        "\n",
        "\n",
        "*   **TUPLAS**\n",
        "\n",
        "\n"
      ]
    },
    {
      "cell_type": "code",
      "metadata": {
        "colab": {
          "base_uri": "https://localhost:8080/"
        },
        "id": "OLboJN5B-ETn",
        "outputId": "38c04afd-39d1-465f-f466-db44bcd85163"
      },
      "source": [
        "############################## Ejercicios con estructuras básicas de python.\n",
        "############## TUPLAS\n",
        "# Crear una variable flotante, integer, boleana y compleja e imprimir el tipo de variable que es.\n",
        "flot=5.9\n",
        "inte=4\n",
        "bole=True\n",
        "comp=2+3j\n",
        "print(\"La variable\",flot,\"es de tipo\",type(flot))\n",
        "print(\"La variable\",inte,\"es de tipo\",type(inte))\n",
        "print(\"La variable\",bole,\"es de tipo\",type(bole))\n",
        "print(\"La variable\",comp,\"es de tipo\",type(comp))"
      ],
      "execution_count": null,
      "outputs": [
        {
          "output_type": "stream",
          "text": [
            "La variable 5.9 es de tipo <class 'float'>\n",
            "La variable 4 es de tipo <class 'int'>\n",
            "La variable True es de tipo <class 'bool'>\n",
            "La variable (2+3j) es de tipo <class 'complex'>\n"
          ],
          "name": "stdout"
        }
      ]
    },
    {
      "cell_type": "code",
      "metadata": {
        "id": "VMCgEwIo-WMs",
        "colab": {
          "base_uri": "https://localhost:8080/"
        },
        "outputId": "2cac4449-7cc4-45fd-8c16-6a3b23bdabae"
      },
      "source": [
        "# Crear una tupla con valores enteros imprimir el primer y ultimo valor.\n",
        "t2=(1,2,3,4,5,6,7,8,9,10)\n",
        "print(\"Primer valor:\",t2[0],\"\\nÚltimo valor:\",t2[len(t2)-1],sep=\"\\n\")"
      ],
      "execution_count": null,
      "outputs": [
        {
          "output_type": "stream",
          "text": [
            "Primer valor:\n",
            "1\n",
            "\n",
            "Último valor:\n",
            "10\n"
          ],
          "name": "stdout"
        }
      ]
    },
    {
      "cell_type": "code",
      "metadata": {
        "id": "Q6vLyv7o-aGw",
        "colab": {
          "base_uri": "https://localhost:8080/"
        },
        "outputId": "988e70d1-b53b-42cd-81af-235cbeb3014c"
      },
      "source": [
        "# Añadir 3 valores de string a la tupla. \n",
        "t2=(1,2,3,4,5,6,7,8,9,10)\n",
        "t3=('string1','string2','string3')\n",
        "t2=t2.__add__(t3)\n",
        "print(\"Valores agregados:\",t3,\"Tupla nueva:\",t2)"
      ],
      "execution_count": null,
      "outputs": [
        {
          "output_type": "stream",
          "text": [
            "Valores agregados: ('string1', 'string2', 'string3') Tupla nueva: (1, 2, 3, 4, 5, 6, 7, 8, 9, 10, 'string1', 'string2', 'string3')\n"
          ],
          "name": "stdout"
        }
      ]
    },
    {
      "cell_type": "code",
      "metadata": {
        "colab": {
          "base_uri": "https://localhost:8080/"
        },
        "id": "bJn7mAde-fKl",
        "outputId": "e3eddf18-c85a-43a5-a130-1bd4165a40c4"
      },
      "source": [
        "# Verificar si una variable existe dentro de la tupla.\n",
        "t2=(1,2,3,4,5,6,7,8,9,10)\n",
        "var1=int(input(\"Valor a buscar: \"))\n",
        "if var1 in t2:\n",
        "  print(\"La variable\",var1,\"se encuentra en la tupla\")\n",
        "else:\n",
        "  print(\"La variable\",var1,\"no se encuentra en la tupla\")\n",
        "var1 in t2"
      ],
      "execution_count": null,
      "outputs": [
        {
          "output_type": "stream",
          "text": [
            "Valor a buscar: 4\n",
            "La variable 4 se encuentra en la tupla\n"
          ],
          "name": "stdout"
        },
        {
          "output_type": "execute_result",
          "data": {
            "text/plain": [
              "True"
            ]
          },
          "metadata": {},
          "execution_count": 36
        }
      ]
    },
    {
      "cell_type": "markdown",
      "metadata": {
        "id": "fUMCNraVmSsg"
      },
      "source": [
        "\n",
        "*   **LISTAS**\n"
      ]
    },
    {
      "cell_type": "code",
      "metadata": {
        "colab": {
          "base_uri": "https://localhost:8080/"
        },
        "id": "RkdlrGES-0ba",
        "outputId": "064f324c-d1c8-4404-e962-eba280244f1c"
      },
      "source": [
        "############## LISTAS\n",
        "# Crear una lista con 40 elementos aleatorios enteros.\n",
        "import random as r\n",
        "lista = [0]  * 40\n",
        "for i in range(40):\n",
        "  lista[i] = r.randint(1,100)\n",
        "print(lista)"
      ],
      "execution_count": null,
      "outputs": [
        {
          "output_type": "stream",
          "text": [
            "[41, 14, 81, 26, 47, 52, 20, 45, 50, 82, 17, 54, 59, 70, 50, 30, 68, 8, 38, 32, 89, 73, 80, 82, 56, 47, 40, 97, 97, 9, 20, 50, 43, 42, 71, 54, 93, 63, 46, 59]\n"
          ],
          "name": "stdout"
        }
      ]
    },
    {
      "cell_type": "code",
      "metadata": {
        "colab": {
          "base_uri": "https://localhost:8080/"
        },
        "id": "KlqSysrFWgj7",
        "outputId": "c7617c7c-2c1a-4810-bd31-096f14e8e632"
      },
      "source": [
        "# Con una funcion (def) crear dos listas nuevas a partir de la lista \n",
        "# creada por numeros aleatorios, en la cual en una esten los elementos \n",
        "# pares, y en la otra los elementos impares.\n",
        "def funcion1(contp): #Creación de lista de pares\n",
        "  p=0\n",
        "  pa=[0]*contp\n",
        "  for i in range(40):\n",
        "    if lista[i]%2==0:\n",
        "      pa[p]=lista[i]\n",
        "      p=p+1\n",
        "  return pa\n",
        "\n",
        "def funcion2(conti): #Creación de lista de impares\n",
        "  np=0\n",
        "  impa=[0]*conti\n",
        "  for i in range(40):\n",
        "    if lista[i]%2!=0:\n",
        "      impa[np]=lista[i]\n",
        "      np=np+1\n",
        "  return impa\n",
        "\n",
        "contp=0\n",
        "for i in range(40):\n",
        "  if lista[i]%2==0:\n",
        "    contp=contp+1\n",
        "conti=40-contp\n",
        "print(\"Lista original:\",lista)\n",
        "print(\"Lista de pares:\",funcion1(contp),\"\\nLista de impares:\",funcion2(conti))\n",
        "\n"
      ],
      "execution_count": null,
      "outputs": [
        {
          "output_type": "stream",
          "text": [
            "Lista original: [41, 14, 81, 26, 47, 52, 20, 45, 50, 82, 17, 54, 59, 70, 50, 30, 68, 8, 38, 32, 89, 73, 80, 82, 56, 47, 40, 97, 97, 9, 20, 50, 43, 42, 71, 54, 93, 63, 46, 59]\n",
            "Lista de pares: [14, 26, 52, 20, 50, 82, 54, 70, 50, 30, 68, 8, 38, 32, 80, 82, 56, 40, 20, 50, 42, 54, 46] \n",
            "Lista de impares: [41, 81, 47, 45, 17, 59, 89, 73, 47, 97, 97, 9, 43, 71, 93, 63, 59]\n"
          ],
          "name": "stdout"
        }
      ]
    },
    {
      "cell_type": "code",
      "metadata": {
        "colab": {
          "base_uri": "https://localhost:8080/"
        },
        "id": "oxGdCOwtWgsu",
        "outputId": "309db497-92c8-4564-f655-1d6858c9071f"
      },
      "source": [
        "# Crear dos variables con la longitud de ambas listas nuevas e imprimir \n",
        "# las variables.\n",
        "longip=len(funcion1(contp))\n",
        "longii=len(funcion2(conti))\n",
        "print(\"Longitud lista de pares:\",longip,\"\\nLongitud lista de impares:\",longii)\n"
      ],
      "execution_count": null,
      "outputs": [
        {
          "output_type": "stream",
          "text": [
            "Longitud lista de pares: 23 \n",
            "Longitud lista de impares: 17\n"
          ],
          "name": "stdout"
        }
      ]
    },
    {
      "cell_type": "code",
      "metadata": {
        "colab": {
          "base_uri": "https://localhost:8080/"
        },
        "id": "nArfT4hHWg2g",
        "outputId": "869f8212-97b7-4f80-aca6-a1d17741f4ee"
      },
      "source": [
        "# Ordenar los elementos de la lista par de mayor a menor, y los de la \n",
        "# lista impar de menor a mayor.\n",
        "po=funcion1(contp)\n",
        "io=funcion2(conti)\n",
        "po.sort()\n",
        "po.reverse()\n",
        "io.sort()\n",
        "print(\"Lista de pares (mayor a menor):\",po,\"\\nLista de impares (menor a mayor):\",io)"
      ],
      "execution_count": null,
      "outputs": [
        {
          "output_type": "stream",
          "text": [
            "Lista de pares (mayor a menor): [82, 82, 80, 70, 68, 56, 54, 54, 52, 50, 50, 50, 46, 42, 40, 38, 32, 30, 26, 20, 20, 14, 8] \n",
            "Lista de impares (menor a mayor): [9, 17, 41, 43, 45, 47, 47, 59, 59, 63, 71, 73, 81, 89, 93, 97, 97]\n"
          ],
          "name": "stdout"
        }
      ]
    },
    {
      "cell_type": "code",
      "metadata": {
        "colab": {
          "base_uri": "https://localhost:8080/"
        },
        "id": "1yNtZUHaWg-a",
        "outputId": "3345b8b0-1d30-4263-dbeb-e2aa6c493a09"
      },
      "source": [
        "# Utilizar al menos cuatro de las funciones de listas en python en la \n",
        "# lista original de 40 elementos.\n",
        "import random as r\n",
        "lista.append(r.randint(1,100))\n",
        "lista.sort()\n",
        "lista.reverse()\n",
        "lista.pop()\n",
        "lista.extend([1,1,1,1])\n",
        "print(\"Lista modificada:\",lista)\n",
        "len(lista)"
      ],
      "execution_count": null,
      "outputs": [
        {
          "output_type": "stream",
          "text": [
            "Lista modificada: [99, 97, 97, 93, 89, 82, 82, 81, 80, 73, 71, 70, 68, 63, 59, 59, 56, 54, 54, 52, 50, 50, 50, 47, 47, 46, 45, 43, 42, 41, 40, 38, 32, 30, 26, 20, 20, 17, 14, 9, 1, 1, 1, 1]\n"
          ],
          "name": "stdout"
        },
        {
          "output_type": "execute_result",
          "data": {
            "text/plain": [
              "44"
            ]
          },
          "metadata": {},
          "execution_count": 164
        }
      ]
    },
    {
      "cell_type": "markdown",
      "metadata": {
        "id": "j3oCkkynmDKm"
      },
      "source": [
        "\n",
        "*   **DICCIONARIOS**\n",
        "\n"
      ]
    },
    {
      "cell_type": "code",
      "metadata": {
        "colab": {
          "base_uri": "https://localhost:8080/"
        },
        "id": "_vY3Lp9qWhGj",
        "outputId": "c1f65526-eb51-4591-fbad-dce66586bf5e"
      },
      "source": [
        "############## DICCIONARIOS\n",
        "# Crear un diccionario de 6 personas que conozcas con su primer nombre y\n",
        "# su edad.\n",
        "dict1={'Alan': 20, 'Francisco': 20, 'Alba': 20, 'Ana': 18, 'Itzel': 21, 'Edgar': 20}\n",
        "print(dict1)"
      ],
      "execution_count": null,
      "outputs": [
        {
          "output_type": "stream",
          "text": [
            "{'Alan': 20, 'Francisco': 20, 'Alba': 20, 'Ana': 18, 'Itzel': 21, 'Edgar': 20}\n"
          ],
          "name": "stdout"
        }
      ]
    },
    {
      "cell_type": "code",
      "metadata": {
        "id": "-lHTDtdoXWdJ",
        "colab": {
          "base_uri": "https://localhost:8080/"
        },
        "outputId": "d0dbe17b-4928-4c0f-feab-6db9163f3d47"
      },
      "source": [
        "# Crear una lista con los valores de la edad y reacomodar la lista de\n",
        "# menor a mayor valor.\n",
        "dict1={'Alan': 20, 'Francisco': 20, 'Alba': 20, 'Ana': 18, 'Itzel': 21, 'Edgar': 20}\n",
        "print(\"La lista ordenada de menor a mayor es: \", sorted(dict1.values()))\n"
      ],
      "execution_count": null,
      "outputs": [
        {
          "output_type": "stream",
          "text": [
            "La lista ordenada de menor a mayor es:  [18, 20, 20, 20, 20, 21]\n"
          ],
          "name": "stdout"
        }
      ]
    },
    {
      "cell_type": "code",
      "metadata": {
        "id": "DYaJcDpCXWla",
        "colab": {
          "base_uri": "https://localhost:8080/"
        },
        "outputId": "57084654-0966-488a-9afd-121d020aa933"
      },
      "source": [
        "# Usando el diccionario y un loop, imprimir solo los nombres.\n",
        "dict1={'Alan': 20, 'Francisco': 20, 'Alba': 20, 'Ana': 18, 'Itzel': 21, 'Edgar': 20}\n",
        "print(\"----Nombres----\")\n",
        "for i in dict1:\n",
        "  print(i)\n"
      ],
      "execution_count": null,
      "outputs": [
        {
          "output_type": "stream",
          "text": [
            "----Nombres----\n",
            "Alan\n",
            "Francisco\n",
            "Alba\n",
            "Ana\n",
            "Itzel\n",
            "Edgar\n"
          ],
          "name": "stdout"
        }
      ]
    },
    {
      "cell_type": "code",
      "metadata": {
        "id": "68tw4pwXXfZu",
        "colab": {
          "base_uri": "https://localhost:8080/"
        },
        "outputId": "1e3097ab-6acf-4d78-ec7a-98f30a3bff55"
      },
      "source": [
        "# Añadir dos personas nuevas a tu diccionario, incluyendo edad.\n",
        "dict1={'Alan': 20, 'Francisco': 20, 'Alba': 20, 'Ana': 18, 'Itzel': 21, 'Edgar': 20}\n",
        "dict1['Marlene']=19\n",
        "dict1['Ingrid']=20\n",
        "print(dict1)\n"
      ],
      "execution_count": null,
      "outputs": [
        {
          "output_type": "stream",
          "text": [
            "{'Alan': 20, 'Francisco': 20, 'Alba': 20, 'Ana': 18, 'Itzel': 21, 'Edgar': 20, 'Marlene': 19, 'Ingrid': 20}\n"
          ],
          "name": "stdout"
        }
      ]
    },
    {
      "cell_type": "markdown",
      "metadata": {
        "id": "01pJLYyulySk"
      },
      "source": [
        "*   **SETS**\n",
        "**OBSERVACIÓN, EL SET  DE 100 NO. ALEATORIOS DEL 1 AL 25 SÓLO SE PUEDE LLENAR CON 25 VALORES DEBIDO A QUE NO SE REPITEN LOS DATOS.**\n"
      ]
    },
    {
      "cell_type": "code",
      "metadata": {
        "colab": {
          "base_uri": "https://localhost:8080/"
        },
        "id": "ecKQKGWJXon6",
        "outputId": "4b8c8d29-4bd1-4b2d-fc31-bd4fd271bc44"
      },
      "source": [
        "############## SETS\n",
        "# Crea un set con 100 numeros aleatorios enteros del 1 al 25.\n",
        "import random as r\n",
        "set1=set()\n",
        "for i in range(0,100):\n",
        "  set1.add(r.randint(1,25))\n",
        "print(\"Set:\\n\",set1)"
      ],
      "execution_count": null,
      "outputs": [
        {
          "output_type": "stream",
          "text": [
            "Set:\n",
            " {1, 2, 3, 4, 5, 6, 7, 8, 9, 10, 11, 12, 13, 14, 15, 16, 17, 18, 19, 20, 21, 22, 23, 24, 25}\n"
          ],
          "name": "stdout"
        }
      ]
    },
    {
      "cell_type": "code",
      "metadata": {
        "colab": {
          "base_uri": "https://localhost:8080/"
        },
        "id": "50CYY-h1f4Jd",
        "outputId": "3324a2f9-e393-47a8-8c89-8a078632380a"
      },
      "source": [
        "# Comprueba la longitud de tu set.\n",
        "print(set1)\n",
        "print(\"\\nLa longitud del set es:\",len(set1))"
      ],
      "execution_count": null,
      "outputs": [
        {
          "output_type": "stream",
          "text": [
            "{1, 2, 3, 4, 5, 6, 7, 8, 9, 10, 11, 12, 13, 14, 15, 16, 17, 18, 19, 20, 21, 22, 23, 24, 25}\n",
            "\n",
            "La longitud del set es: 25\n"
          ],
          "name": "stdout"
        }
      ]
    },
    {
      "cell_type": "code",
      "metadata": {
        "colab": {
          "base_uri": "https://localhost:8080/"
        },
        "id": "Z7sjE0Q4f4UQ",
        "outputId": "04b630c8-4b50-462c-c2c4-a182e1ab3348"
      },
      "source": [
        "# Crea una lista de 5 numeros aleatorios del 1 al 10 y comprueba \n",
        "# si cada valor aparece en el set inicial.\n",
        "\n",
        "# Creación de una lista con 5 elementos aleatorios del 1 al 10\n",
        "lista5 = [0]  * 5\n",
        "for i in range(5):\n",
        "  lista5[i] = r.randint(1,10)\n",
        "print(\"El set:\",set1)\n",
        "print(\"\\nLa lista de 5 elementos aleatorios es:\",lista5,\"\\n\")\n",
        "for i in range(0,len(lista5)):\n",
        "  if lista5[i] in set1:\n",
        "    print(\"El elemento\",lista5[i],\"se encuentra en el set.\")\n",
        "  else:\n",
        "    print(\"El elemento\",lista5[i],\"no se encuentra en el set.\")"
      ],
      "execution_count": null,
      "outputs": [
        {
          "output_type": "stream",
          "text": [
            "El set: {1, 2, 3, 4, 5, 6, 7, 8, 9, 10, 11, 12, 13, 14, 15, 16, 17, 18, 19, 20, 21, 22, 23, 24, 25}\n",
            "\n",
            "La lista de 5 elementos aleatorios es: [1, 9, 8, 4, 10] \n",
            "\n",
            "El elemento 1 se encuentra en el set.\n",
            "El elemento 9 se encuentra en el set.\n",
            "El elemento 8 se encuentra en el set.\n",
            "El elemento 4 se encuentra en el set.\n",
            "El elemento 10 se encuentra en el set.\n"
          ],
          "name": "stdout"
        }
      ]
    }
  ]
}